{
 "cells": [
  {
   "cell_type": "markdown",
   "id": "1dbb2497",
   "metadata": {},
   "source": [
    "# Difference Equations & Iteration\n",
    "\n",
    "This jupyter notebook is part of Arizona State University's course CAS 570 (Introduction to Complex Systems Science) and was written by Enrico Borriello. It was last updated September 30, 2024.\n",
    "\n",
    "____"
   ]
  },
  {
   "cell_type": "markdown",
   "id": "35fb769c",
   "metadata": {},
   "source": [
    "In this example, we model a dynamical system using difference equations. Difference equations are an appropriate approach when the time variable in our model can realistically be updated in discrete steps.\n",
    "\n",
    "For simplicity, we will refer to the SIR model (see the corresponding notebook in this repository for a full description of the model). The SIR model is usually described using ordinary differential equations (ODEs). In this notebook, we will explore how a system of ODEs can be converted into a discrete-time system, which iteratively generates a time series representing the evolution of the system. Alternatively, your model might be better suited for a discrete step time update from the start.\n",
    "\n",
    "The main learning objective of this example is to recognize a common issue that arises when coding the updating rule for multiple variables. Since the updates are always done sequentially, using the most recent value of a variable in the middle of the update process can introduce errors. Specifically, some variables may already refer to the state at time step t+1, while others are still in their state at time t. Let's explore this issue in practice.\n",
    "\n",
    "A discrete version of the SIR model can be described by the following system of equations:\n",
    "\n",
    "$$S_{t+1} = S_{t} - c S_{t}I_{t}$$\n",
    "\n",
    "$$I_{t+1} = I_{t} + c S_{t}I_{t} - r I_{t}$$\n",
    "\n",
    "$$R_{t+1} = R_{t} + r I_{t}$$"
   ]
  },
  {
   "cell_type": "code",
   "execution_count": 1,
   "id": "fc8a8736",
   "metadata": {},
   "outputs": [],
   "source": [
    "import matplotlib.pyplot as plt\n",
    "import numpy as np"
   ]
  },
  {
   "cell_type": "markdown",
   "id": "b677d060",
   "metadata": {},
   "source": [
    "### Approach 1: The wrong method"
   ]
  },
  {
   "cell_type": "code",
   "execution_count": 2,
   "id": "a5e7b5a9",
   "metadata": {},
   "outputs": [],
   "source": [
    "c = 0.001\n",
    "r = 0.05\n",
    "\n",
    "S0 = 999\n",
    "I0 = 1\n",
    "R0 = 0\n",
    "\n",
    "T = 100\n",
    "\n",
    "S = [S0]\n",
    "I = [I0]\n",
    "R = [R0]\n",
    "\n",
    "for t in range(T):\n",
    "    S.append(S[-1]-c*S[-1]*I[-1])\n",
    "    I.append(I[-1]+c*S[-1]*I[-1]-r*I[-1])\n",
    "    R.append(R[-1]+r*I[-1])"
   ]
  },
  {
   "cell_type": "code",
   "execution_count": 3,
   "id": "9605feb4",
   "metadata": {},
   "outputs": [
    {
     "data": {
      "image/png": "[encoded data removed]",
      "text/plain": [
       "<Figure size 432x288 with 1 Axes>"
      ]
     },
     "metadata": {
      "needs_background": "light"
     },
     "output_type": "display_data"
    }
   ],
   "source": [
    "plt.plot(range(T+1),S,label='S')\n",
    "plt.plot(range(T+1),I,label='I')\n",
    "plt.plot(range(T+1),R,label='R')\n",
    "plt.xlabel('t',size=14)\n",
    "plt.legend()\n",
    "plt.show()"
   ]
  },
  {
   "cell_type": "markdown",
   "id": "53bfe585",
   "metadata": {},
   "source": [
    "While this result might seem correct at a first glance, it is not. While our equations are supposed to preserve the total number of individuals, because\n",
    "\n",
    "$$ S_{t+1} + I_{t+1} + R_{t+1} = S_t + I_t + R_t \\ , $$ \n",
    "\n",
    "the way we are implementing them numerically doesn't. In particular"
   ]
  },
  {
   "cell_type": "code",
   "execution_count": 4,
   "id": "e77e0d29",
   "metadata": {},
   "outputs": [
    {
     "name": "stdout",
     "output_type": "stream",
     "text": [
      "initial population size =  1000\n",
      "final population size   =  686.6363724035141\n"
     ]
    }
   ],
   "source": [
    "print('initial population size = ',S[0]+I[0]+R[0])\n",
    "print('final population size   = ',S[-1]+I[-1]+R[-1])"
   ]
  },
  {
   "cell_type": "markdown",
   "id": "a6ce041f",
   "metadata": {},
   "source": [
    "We can understand what's happening by comparing the values of the term $c S_t I_t$ in the first and the second line of our for-loop. The two terms should be the same. Let's run our code for just one time step:"
   ]
  },
  {
   "cell_type": "code",
   "execution_count": 5,
   "id": "fc35c639",
   "metadata": {},
   "outputs": [
    {
     "name": "stdout",
     "output_type": "stream",
     "text": [
      "S =  999\n",
      "Before updating S, c*S*I  =  0.999\n",
      "Then S is updated\n",
      "S =  998.001\n",
      "After updatinfg S, and before updating I, c*S*I  =  0.998001\n"
     ]
    }
   ],
   "source": [
    "c = 0.001\n",
    "r = 0.05\n",
    "\n",
    "S0 = 999\n",
    "I0 = 1\n",
    "R0 = 0\n",
    "\n",
    "T = 1\n",
    "\n",
    "S = [S0]\n",
    "I = [I0]\n",
    "R = [R0]\n",
    "\n",
    "for t in range(T):\n",
    "    print('S = ',S[-1])\n",
    "    print('Before updating S, c*S*I  = ',c*S[-1]*I[-1])\n",
    "    print('Then S is updated')\n",
    "    S.append(S[-1]-c*S[-1]*I[-1])\n",
    "    print('S = ',S[-1])\n",
    "    print('After updatinfg S, and before updating I, c*S*I  = ',c*S[-1]*I[-1])\n",
    "    I.append(I[-1]+c*S[-1]*I[-1]-r*I[-1])\n",
    "    R.append(R[-1]+r*I[-1])"
   ]
  },
  {
   "cell_type": "markdown",
   "id": "057c2483",
   "metadata": {},
   "source": [
    "The mistake is that we're using S[0] in updating S, but S[1] in updating I. For the same reason, we also use I[1] instead of I[0] in updating R when running the 3rd line. This little mistake is cumulative, and eventually leads to about 313 people disappearing from the total population.\n",
    "\n",
    "To avoid this mistake we need to make sure we are always reading the values of $S$, $R$, and $I$ at time $t$ when evaluating these variables at time $t+1$.\n",
    "\n",
    "Here's an option where we explicitly correct the two places where we were making a mistake:"
   ]
  },
  {
   "cell_type": "markdown",
   "id": "8d36f21a",
   "metadata": {},
   "source": [
    "### Approach 2: Correct, but using *hardcoding*"
   ]
  },
  {
   "cell_type": "code",
   "execution_count": 6,
   "id": "16a157af",
   "metadata": {},
   "outputs": [],
   "source": [
    "c = 0.001\n",
    "r = 0.05\n",
    "\n",
    "S0 = 999\n",
    "I0 = 1\n",
    "R0 = 0\n",
    "\n",
    "T = 100\n",
    "\n",
    "S = [S0]\n",
    "I = [I0]\n",
    "R = [R0]\n",
    "\n",
    "for t in range(T):\n",
    "    S.append(S[-1]-c*S[-1]*I[-1])\n",
    "    I.append(I[-1]+c*S[-2]*I[-1]-r*I[-1])\n",
    "    R.append(R[-1]+r*I[-2])"
   ]
  },
  {
   "cell_type": "code",
   "execution_count": 7,
   "id": "83c11f0f",
   "metadata": {},
   "outputs": [
    {
     "data": {
      "image/png": "[encoded data removed]",
      "text/plain": [
       "<Figure size 432x288 with 1 Axes>"
      ]
     },
     "metadata": {
      "needs_background": "light"
     },
     "output_type": "display_data"
    },
    {
     "name": "stdout",
     "output_type": "stream",
     "text": [
      "initial population size =  1000\n",
      "final population size   =  1000.0\n"
     ]
    }
   ],
   "source": [
    "plt.plot(range(T+1),S,label='S')\n",
    "plt.plot(range(T+1),I,label='I')\n",
    "plt.plot(range(T+1),R,label='R')\n",
    "plt.xlabel('t',size=14)\n",
    "plt.legend()\n",
    "plt.show()\n",
    "\n",
    "print('initial population size = ',S[0]+I[0]+R[0])\n",
    "print('final population size   = ',S[-1]+I[-1]+R[-1])"
   ]
  },
  {
   "cell_type": "markdown",
   "id": "34bd4fa5",
   "metadata": {},
   "source": [
    "This approach of referring to the second last update of just the variables that have been already updated is not very convenient with many more variables. This sort of *hardcoding* makes coding mistakes a lot more likely.\n",
    "\n",
    "### Approach 3: The safer method\n",
    "\n",
    "A better way consists in giving new names to the variables while we update them, and then rename all of them *at the same time:*"
   ]
  },
  {
   "cell_type": "code",
   "execution_count": 8,
   "id": "41a61a91",
   "metadata": {},
   "outputs": [],
   "source": [
    "c = 0.001\n",
    "r = 0.05\n",
    "\n",
    "S0 = 999\n",
    "I0 = 1\n",
    "R0 = 0\n",
    "\n",
    "T = 100\n",
    "\n",
    "S = [S0]\n",
    "I = [I0]\n",
    "R = [R0]\n",
    "\n",
    "for t in range(T):\n",
    "    S1 = S[-1]-c*S[-1]*I[-1]\n",
    "    I1 = I[-1]+c*S[-1]*I[-1]-r*I[-1]\n",
    "    R1 = R[-1]+r*I[-1]\n",
    "    S.append(S1)\n",
    "    R.append(R1)\n",
    "    I.append(I1)"
   ]
  },
  {
   "cell_type": "code",
   "execution_count": 9,
   "id": "d8965c6b",
   "metadata": {},
   "outputs": [
    {
     "data": {
      "image/png": "[encoded data removed]",
      "text/plain": [
       "<Figure size 432x288 with 1 Axes>"
      ]
     },
     "metadata": {
      "needs_background": "light"
     },
     "output_type": "display_data"
    },
    {
     "name": "stdout",
     "output_type": "stream",
     "text": [
      "initial population size =  1000\n",
      "final population size   =  1000.0\n"
     ]
    }
   ],
   "source": [
    "plt.plot(range(T+1),S,label='S')\n",
    "plt.plot(range(T+1),I,label='I')\n",
    "plt.plot(range(T+1),R,label='R')\n",
    "plt.xlabel('t',size=14)\n",
    "plt.legend()\n",
    "plt.show()\n",
    "\n",
    "print('initial population size = ',S[0]+I[0]+R[0])\n",
    "print('final population size   = ',S[-1]+I[-1]+R[-1])"
   ]
  },
  {
   "cell_type": "markdown",
   "id": "1bcd9c2f",
   "metadata": {},
   "source": [
    "Using the more compact approach we adopted in the continuos version of the model, where a vector $x = [S,R,I]$ collects all the dynamic variables, we can write our code as"
   ]
  },
  {
   "cell_type": "code",
   "execution_count": 10,
   "id": "6db55ed0",
   "metadata": {},
   "outputs": [],
   "source": [
    "c = 0.001\n",
    "r = 0.05\n",
    "\n",
    "S0 = 999\n",
    "I0 = 1\n",
    "R0 = 0\n",
    "\n",
    "x0 = [S0,I0,R0]"
   ]
  },
  {
   "cell_type": "code",
   "execution_count": 11,
   "id": "f6533aaf",
   "metadata": {},
   "outputs": [],
   "source": [
    "def SIRupdate(c, r, x):\n",
    "    # the analogous of running odeint\n",
    "    \n",
    "    S = x[0]\n",
    "    I = x[1]\n",
    "    R = x[2]\n",
    "\n",
    "    S_1 = S - c*S*I\n",
    "    I_1 = I + c*S*I - r*I\n",
    "    R_1 = R + r*I\n",
    "    \n",
    "    S = S_1\n",
    "    I = I_1\n",
    "    R = R_1\n",
    "    \n",
    "    return [S,I,R]"
   ]
  },
  {
   "cell_type": "code",
   "execution_count": 12,
   "id": "75fdb584",
   "metadata": {},
   "outputs": [],
   "source": [
    "x = [x0]\n",
    "T = 100\n",
    "for t in range(T):\n",
    "    x.append(SIRupdate(c,r,x[-1]))"
   ]
  },
  {
   "cell_type": "code",
   "execution_count": 13,
   "id": "fe1e0e43",
   "metadata": {},
   "outputs": [
    {
     "data": {
      "image/png": "[encoded data removed]",
      "text/plain": [
       "<Figure size 432x288 with 1 Axes>"
      ]
     },
     "metadata": {
      "needs_background": "light"
     },
     "output_type": "display_data"
    },
    {
     "name": "stdout",
     "output_type": "stream",
     "text": [
      "initial population size =  1000.0\n",
      "final population size   =  1000.0\n"
     ]
    }
   ],
   "source": [
    "S = np.array(x).T[0]\n",
    "R = np.array(x).T[1]\n",
    "I = np.array(x).T[2]\n",
    "\n",
    "plt.plot(range(T+1),S,label='S')\n",
    "plt.plot(range(T+1),R,label='I')\n",
    "plt.plot(range(T+1),I,label='R')\n",
    "plt.xlabel('t',size=14)\n",
    "plt.legend()\n",
    "plt.show()\n",
    "\n",
    "print('initial population size = ',S[0]+I[0]+R[0])\n",
    "print('final population size   = ',S[-1]+I[-1]+R[-1])"
   ]
  },
  {
   "cell_type": "code",
   "execution_count": null,
   "id": "8f68a475-7c3c-4dfc-82c3-22c6f4ff12fe",
   "metadata": {},
   "outputs": [],
   "source": []
  }
 ],
 "metadata": {
  "kernelspec": {
   "display_name": "Python 3 (ipykernel)",
   "language": "python",
   "name": "python3"
  },
  "language_info": {
   "codemirror_mode": {
    "name": "ipython",
    "version": 3
   },
   "file_extension": ".py",
   "mimetype": "text/x-python",
   "name": "python",
   "nbconvert_exporter": "python",
   "pygments_lexer": "ipython3",
   "version": "3.9.5"
  }
 },
 "nbformat": 4,
 "nbformat_minor": 5
}
