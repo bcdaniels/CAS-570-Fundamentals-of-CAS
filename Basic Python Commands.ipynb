{
 "cells": [
  {
   "cell_type": "markdown",
   "id": "290a7077",
   "metadata": {},
   "source": [
    "# Basic Python Commands\n",
    "\n",
    "This jupyter notebook is part of Arizona State University's course CAS 570 (Introduction to Complex Systems Science) and was written by Enrico Borriello. It was last updated September 30, 2024.\n",
    "\n",
    "____"
   ]
  },
  {
   "cell_type": "markdown",
   "id": "2c6f548c",
   "metadata": {},
   "source": [
    "# Libraries"
   ]
  },
  {
   "cell_type": "code",
   "execution_count": 1,
   "id": "d2c63f32",
   "metadata": {},
   "outputs": [],
   "source": [
    "import numpy as np\n",
    "import random as rn"
   ]
  },
  {
   "cell_type": "markdown",
   "id": "80e0ae13",
   "metadata": {},
   "source": [
    "**NumPy** is the default Python library for vector and matrix oprations. **Random** contains useful functions to generate pseudo-random numbers. Documentation for these libraries can be found at:"
   ]
  },
  {
   "cell_type": "raw",
   "id": "224c30c8-7faf-4c64-abaf-d9650ae9459f",
   "metadata": {},
   "source": [
    "https://numpy.org/\n",
    "https://docs.python.org/3/library/random.html"
   ]
  },
  {
   "cell_type": "markdown",
   "id": "abac5b3e-2deb-44e2-95c0-f07542f332cc",
   "metadata": {},
   "source": [
    "The abbreviations we have defined for numpy and random are useful when using functions from those libraries. For example:"
   ]
  },
  {
   "cell_type": "code",
   "execution_count": 2,
   "id": "c74cc645",
   "metadata": {},
   "outputs": [
    {
     "data": {
      "text/plain": [
       "2.25"
      ]
     },
     "execution_count": 2,
     "metadata": {},
     "output_type": "execute_result"
    }
   ],
   "source": [
    "np.mean([1,4,-2,6])"
   ]
  },
  {
   "cell_type": "markdown",
   "id": "5cc1b7ee",
   "metadata": {},
   "source": [
    "as opposed to the longer syntax 'numpy.mean([1,4,-2,6])' that we would use if we just imported numpy with 'import numpy'.\n",
    "\n",
    "'np.mean( )' is a function that evaluates the average of the list of numbers we provide as input."
   ]
  },
  {
   "cell_type": "markdown",
   "id": "6aa06258",
   "metadata": {},
   "source": [
    "# Matrices\n",
    "A numpy matrix can be defined as follows:"
   ]
  },
  {
   "cell_type": "code",
   "execution_count": 3,
   "id": "49aca0d2",
   "metadata": {},
   "outputs": [
    {
     "data": {
      "text/plain": [
       "array([[ 1,  2],\n",
       "       [ 0, -1]])"
      ]
     },
     "execution_count": 3,
     "metadata": {},
     "output_type": "execute_result"
    }
   ],
   "source": [
    "A = np.array([[1,2],[0,-1]])\n",
    "A"
   ]
  },
  {
   "cell_type": "markdown",
   "id": "8d35114a",
   "metadata": {},
   "source": [
    "**Numpy** also contains functions to automatically generate matrices of given shapes and with specific characteristics without the need to manually assign all the entries. For example, a 6x6 matrix with all the entries equal to zero can be defined as follows:"
   ]
  },
  {
   "cell_type": "code",
   "execution_count": 4,
   "id": "1a4b34a4",
   "metadata": {},
   "outputs": [
    {
     "data": {
      "text/plain": [
       "array([[0, 0, 0, 0, 0, 0],\n",
       "       [0, 0, 0, 0, 0, 0],\n",
       "       [0, 0, 0, 0, 0, 0],\n",
       "       [0, 0, 0, 0, 0, 0],\n",
       "       [0, 0, 0, 0, 0, 0],\n",
       "       [0, 0, 0, 0, 0, 0]])"
      ]
     },
     "execution_count": 4,
     "metadata": {},
     "output_type": "execute_result"
    }
   ],
   "source": [
    "N = 6\n",
    "A = np.zeros((N,N), dtype=int)\n",
    "A"
   ]
  },
  {
   "cell_type": "markdown",
   "id": "26500cd8",
   "metadata": {},
   "source": [
    "We can select the i-th row of matrix A by typing A[i]. Remeber that python numbering starts from zero. Therefore the first row of A is A[0], the second row is A[1], etc."
   ]
  },
  {
   "cell_type": "code",
   "execution_count": 5,
   "id": "7596f676",
   "metadata": {},
   "outputs": [
    {
     "data": {
      "text/plain": [
       "array([0, 0, 0, 0, 0, 0])"
      ]
     },
     "execution_count": 5,
     "metadata": {},
     "output_type": "execute_result"
    }
   ],
   "source": [
    "A[2]"
   ]
  },
  {
   "cell_type": "markdown",
   "id": "062e2dfa",
   "metadata": {},
   "source": [
    "We can select element j of column i of matrix A by typing A[i][j]"
   ]
  },
  {
   "cell_type": "code",
   "execution_count": 6,
   "id": "229c4c9c",
   "metadata": {},
   "outputs": [
    {
     "data": {
      "text/plain": [
       "0"
      ]
     },
     "execution_count": 6,
     "metadata": {},
     "output_type": "execute_result"
    }
   ],
   "source": [
    "A[2][3]"
   ]
  },
  {
   "cell_type": "markdown",
   "id": "0f4a21b6",
   "metadata": {},
   "source": [
    "We can achieve the same result with"
   ]
  },
  {
   "cell_type": "code",
   "execution_count": 7,
   "id": "f216004c",
   "metadata": {},
   "outputs": [
    {
     "data": {
      "text/plain": [
       "0"
      ]
     },
     "execution_count": 7,
     "metadata": {},
     "output_type": "execute_result"
    }
   ],
   "source": [
    "A[2,3]"
   ]
  },
  {
   "cell_type": "markdown",
   "id": "d174e480",
   "metadata": {},
   "source": [
    "Additionally, we can retrieve all the elements of a given row/column replacing its index with ':'"
   ]
  },
  {
   "cell_type": "code",
   "execution_count": 8,
   "id": "061cee46",
   "metadata": {},
   "outputs": [
    {
     "data": {
      "text/plain": [
       "array([0, 0, 0, 0, 0, 0])"
      ]
     },
     "execution_count": 8,
     "metadata": {},
     "output_type": "execute_result"
    }
   ],
   "source": [
    "A[2,:]"
   ]
  },
  {
   "cell_type": "code",
   "execution_count": 9,
   "id": "d4321a66",
   "metadata": {},
   "outputs": [
    {
     "data": {
      "text/plain": [
       "array([0, 0, 0, 0, 0, 0])"
      ]
     },
     "execution_count": 9,
     "metadata": {},
     "output_type": "execute_result"
    }
   ],
   "source": [
    "A[:,3]"
   ]
  },
  {
   "cell_type": "markdown",
   "id": "037229aa",
   "metadata": {},
   "source": [
    "We can change the value of an entry of a matrix by just reassigning its value:"
   ]
  },
  {
   "cell_type": "code",
   "execution_count": 10,
   "id": "0ae1c5c5",
   "metadata": {},
   "outputs": [],
   "source": [
    "A[2,3] = 1"
   ]
  },
  {
   "cell_type": "markdown",
   "id": "09cdb0b8",
   "metadata": {},
   "source": [
    "We can check the result"
   ]
  },
  {
   "cell_type": "code",
   "execution_count": 11,
   "id": "2a6d96d5",
   "metadata": {},
   "outputs": [
    {
     "data": {
      "text/plain": [
       "array([[0, 0, 0, 0, 0, 0],\n",
       "       [0, 0, 0, 0, 0, 0],\n",
       "       [0, 0, 0, 1, 0, 0],\n",
       "       [0, 0, 0, 0, 0, 0],\n",
       "       [0, 0, 0, 0, 0, 0],\n",
       "       [0, 0, 0, 0, 0, 0]])"
      ]
     },
     "execution_count": 11,
     "metadata": {},
     "output_type": "execute_result"
    }
   ],
   "source": [
    "A"
   ]
  },
  {
   "cell_type": "code",
   "execution_count": 12,
   "id": "b6559ae0",
   "metadata": {
    "scrolled": true
   },
   "outputs": [
    {
     "data": {
      "text/plain": [
       "array([0, 0, 0, 1, 0, 0])"
      ]
     },
     "execution_count": 12,
     "metadata": {},
     "output_type": "execute_result"
    }
   ],
   "source": [
    "A[2,:]"
   ]
  },
  {
   "cell_type": "code",
   "execution_count": 13,
   "id": "bdc7f1b8",
   "metadata": {},
   "outputs": [
    {
     "data": {
      "text/plain": [
       "array([0, 0, 1, 0, 0, 0])"
      ]
     },
     "execution_count": 13,
     "metadata": {},
     "output_type": "execute_result"
    }
   ],
   "source": [
    "A[:,3]"
   ]
  },
  {
   "cell_type": "markdown",
   "id": "abf6a400",
   "metadata": {},
   "source": [
    "## Loops"
   ]
  },
  {
   "cell_type": "markdown",
   "id": "0d9c4a76",
   "metadata": {},
   "source": [
    "We can use a **for** loop to iterate one or more operations: "
   ]
  },
  {
   "cell_type": "code",
   "execution_count": 14,
   "id": "c3ea5d26",
   "metadata": {},
   "outputs": [
    {
     "name": "stdout",
     "output_type": "stream",
     "text": [
      "0\n",
      "1\n",
      "2\n",
      "3\n"
     ]
    }
   ],
   "source": [
    "for i in [0,1,2,3]:\n",
    "    print(i)"
   ]
  },
  {
   "cell_type": "markdown",
   "id": "691ebc77",
   "metadata": {},
   "source": [
    "Notice that the instruction that we want to perform begins with an indentation. \n",
    "\n",
    "There is a more compact way to refer to a range of consecutive integers:"
   ]
  },
  {
   "cell_type": "code",
   "execution_count": 15,
   "id": "0809a266",
   "metadata": {},
   "outputs": [
    {
     "name": "stdout",
     "output_type": "stream",
     "text": [
      "0\n",
      "1\n",
      "2\n",
      "3\n"
     ]
    }
   ],
   "source": [
    "for i in range(4):\n",
    "    print(i)"
   ]
  },
  {
   "cell_type": "markdown",
   "id": "7c1386d2",
   "metadata": {},
   "source": [
    "Notice that the numbering starts at zero and ends at 4-1 = 3. Therfore, with range(4), we refer to 4 consecutive integers, the first one being zero.\n",
    "\n",
    "Here's another example, showing that we can perform more than one instruction per step:"
   ]
  },
  {
   "cell_type": "code",
   "execution_count": 16,
   "id": "1e1f6423",
   "metadata": {},
   "outputs": [
    {
     "name": "stdout",
     "output_type": "stream",
     "text": [
      "0\n",
      "2\n",
      "4\n",
      "6\n",
      "8\n",
      "10\n",
      "12\n",
      "14\n",
      "16\n",
      "18\n"
     ]
    }
   ],
   "source": [
    "for i in range(10):\n",
    "    x = 2*i\n",
    "    print(x)"
   ]
  },
  {
   "cell_type": "markdown",
   "id": "348d91e4",
   "metadata": {},
   "source": [
    "(The four basic operations in Python are '+', '-', '*', '/'.)"
   ]
  },
  {
   "cell_type": "markdown",
   "id": "408208f9",
   "metadata": {},
   "source": [
    "The **for** loop can also be used to easily generate lists:"
   ]
  },
  {
   "cell_type": "code",
   "execution_count": 17,
   "id": "159e0c99",
   "metadata": {},
   "outputs": [
    {
     "data": {
      "text/plain": [
       "[0, 2, 4, 6, 8, 10, 12, 14, 16, 18]"
      ]
     },
     "execution_count": 17,
     "metadata": {},
     "output_type": "execute_result"
    }
   ],
   "source": [
    "[2*i for i in range(10)]"
   ]
  },
  {
   "cell_type": "markdown",
   "id": "85b892b2",
   "metadata": {},
   "source": [
    "Here's an example not involving numbers:"
   ]
  },
  {
   "cell_type": "code",
   "execution_count": 18,
   "id": "b718d9be",
   "metadata": {},
   "outputs": [
    {
     "data": {
      "text/plain": [
       "['w', 'o', 'r', 'd']"
      ]
     },
     "execution_count": 18,
     "metadata": {},
     "output_type": "execute_result"
    }
   ],
   "source": [
    "[character for character in 'word']"
   ]
  },
  {
   "cell_type": "markdown",
   "id": "211694b5",
   "metadata": {},
   "source": [
    "If you're wondering about the previous output, python sees words as lists of charaters."
   ]
  },
  {
   "cell_type": "markdown",
   "id": "1f365b34",
   "metadata": {},
   "source": [
    "### Nested loops\n",
    "\n",
    "It is possible to have a for loop as an instruction inside another for loop:"
   ]
  },
  {
   "cell_type": "code",
   "execution_count": 19,
   "id": "9a98328a",
   "metadata": {},
   "outputs": [
    {
     "name": "stdout",
     "output_type": "stream",
     "text": [
      "0\n",
      "0\n",
      "0\n",
      "0\n",
      "1\n",
      "2\n",
      "0\n",
      "2\n",
      "4\n"
     ]
    }
   ],
   "source": [
    "N = 3\n",
    "for i in range(N):\n",
    "    for j in range(N):\n",
    "        print(i*j)"
   ]
  },
  {
   "cell_type": "markdown",
   "id": "679cebb3",
   "metadata": {},
   "source": [
    "# If condition\n",
    "It is possible to perform an instructio only if a certain condition is met. For example:"
   ]
  },
  {
   "cell_type": "code",
   "execution_count": 20,
   "id": "215ec2ad",
   "metadata": {},
   "outputs": [],
   "source": [
    "if rn.random() < 0.6:\n",
    "    print('random number less than 0.6')"
   ]
  },
  {
   "cell_type": "markdown",
   "id": "1bd7af93",
   "metadata": {},
   "source": [
    "Execute the previous command several times. It will print an output only about 60% of times. The reason is that 'rn.random( )' generates a random number between zero and 1. Therefore, it will be less than 1 only 60% of times.\n",
    "\n",
    "Common conditions that can be used with 'if' are:\n",
    "\n",
    "'<' less than\n",
    "\n",
    "'>' greater than\n",
    "\n",
    "'==' equal to\n",
    "\n",
    "'!=' not equal to"
   ]
  },
  {
   "cell_type": "markdown",
   "id": "e57ef9c3",
   "metadata": {},
   "source": [
    "It is possible to have an if condition nested within a for loop: "
   ]
  },
  {
   "cell_type": "code",
   "execution_count": 21,
   "id": "a9af4ae0",
   "metadata": {},
   "outputs": [
    {
     "name": "stdout",
     "output_type": "stream",
     "text": [
      "0 0.39012768901139194\n",
      "2 0.3383033739795501\n",
      "7 0.13380869975490417\n",
      "8 0.23922316137399058\n",
      "9 0.3920746575375105\n"
     ]
    }
   ],
   "source": [
    "p = 0.5\n",
    "for i in range(10):\n",
    "    x = rn.random() \n",
    "    if x < p:\n",
    "        print(i,x)"
   ]
  },
  {
   "cell_type": "markdown",
   "id": "d0572ab0",
   "metadata": {},
   "source": [
    "(Notice that 'print( )' can have more than one input.)"
   ]
  },
  {
   "cell_type": "markdown",
   "id": "07088f41",
   "metadata": {},
   "source": [
    "Notice that, if the condition is not satisfied, the instructions are not executed, and the xcecution leaves the if statement. Sometimes, it could be useful to provide an alternative set of instructions for when the conditon is not satisfied. This is done using 'if' and 'else' (not nested):"
   ]
  },
  {
   "cell_type": "raw",
   "id": "7f4c8bbf",
   "metadata": {},
   "source": [
    "if condition == True:\n",
    "    instructions 1\n",
    "    else:\n",
    "        instructions 2"
   ]
  },
  {
   "cell_type": "markdown",
   "id": "d8a7fc29",
   "metadata": {},
   "source": [
    "In our previous example:"
   ]
  },
  {
   "cell_type": "code",
   "execution_count": 22,
   "id": "72fd96d5",
   "metadata": {},
   "outputs": [
    {
     "name": "stdout",
     "output_type": "stream",
     "text": [
      "random number less than 0.6\n"
     ]
    }
   ],
   "source": [
    "if rn.random() < 0.6:\n",
    "    print('random number less than 0.6')\n",
    "else:\n",
    "    print('random number greater than 0.6')"
   ]
  },
  {
   "cell_type": "markdown",
   "id": "49a3c3df",
   "metadata": {},
   "source": [
    "# Functions\n",
    "'print( )', 'np.random( )', 'np.mean( )' etc. are **functions**. We can easily define new, custom functions as in the following example:"
   ]
  },
  {
   "cell_type": "code",
   "execution_count": 23,
   "id": "5eea42be",
   "metadata": {},
   "outputs": [],
   "source": [
    "def square(x):\n",
    "    return x*x"
   ]
  },
  {
   "cell_type": "code",
   "execution_count": 24,
   "id": "744c58ec",
   "metadata": {},
   "outputs": [
    {
     "data": {
      "text/plain": [
       "100"
      ]
     },
     "execution_count": 24,
     "metadata": {},
     "output_type": "execute_result"
    }
   ],
   "source": [
    "square(10)"
   ]
  },
  {
   "cell_type": "markdown",
   "id": "e95bcaf8",
   "metadata": {},
   "source": [
    "A function can have any number of inputs. It can also contain any number of intermediate instructions between 'def' and 'return'. For example, here's a function that calculates the volume of a cylinder of radius r and height h:"
   ]
  },
  {
   "cell_type": "code",
   "execution_count": 25,
   "id": "ff4aec3e",
   "metadata": {},
   "outputs": [],
   "source": [
    "def cylinder_volume(r,h):\n",
    "    base_area = np.pi*r*r \n",
    "    # np.pi = 3.14... \n",
    "    # everything following # in a line is not executed by python, \n",
    "    # and can be used to add comments to the code\n",
    "    volume = base_area*h\n",
    "    return volume"
   ]
  },
  {
   "cell_type": "code",
   "execution_count": 26,
   "id": "79a425bf",
   "metadata": {},
   "outputs": [
    {
     "data": {
      "text/plain": [
       "125.66370614359172"
      ]
     },
     "execution_count": 26,
     "metadata": {},
     "output_type": "execute_result"
    }
   ],
   "source": [
    "cylinder_volume(2,10)"
   ]
  },
  {
   "cell_type": "markdown",
   "id": "8b0cc001",
   "metadata": {},
   "source": [
    "A function can contain loops and if conditions, nested or not."
   ]
  },
  {
   "cell_type": "code",
   "execution_count": null,
   "id": "be7cd3c4-51d7-4272-a4ed-82d75cc461be",
   "metadata": {},
   "outputs": [],
   "source": []
  }
 ],
 "metadata": {
  "kernelspec": {
   "display_name": "Python 3 (ipykernel)",
   "language": "python",
   "name": "python3"
  },
  "language_info": {
   "codemirror_mode": {
    "name": "ipython",
    "version": 3
   },
   "file_extension": ".py",
   "mimetype": "text/x-python",
   "name": "python",
   "nbconvert_exporter": "python",
   "pygments_lexer": "ipython3",
   "version": "3.9.5"
  }
 },
 "nbformat": 4,
 "nbformat_minor": 5
}
